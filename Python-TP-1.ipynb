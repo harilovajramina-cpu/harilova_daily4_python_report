{
 "cells": [
  {
   "cell_type": "markdown",
   "id": "426486dd",
   "metadata": {
    "id": "426486dd"
   },
   "source": [
    "\n",
    "\n",
    "# Practical_1: Variables and Assignments"
   ]
  },
  {
   "cell_type": "markdown",
   "id": "aa8882ae",
   "metadata": {
    "id": "9fb19f0d"
   },
   "source": [
    "----\n",
    "\n",
    "### Exercise 1:\n",
    "Declare a variable `x` and assign it the value `10`.\n",
    "\n",
    "```python\n",
    "# Exercise 1\n",
    "```"
   ]
  },
  {
   "cell_type": "code",
   "execution_count": 1,
   "id": "4132ac2d",
   "metadata": {},
   "outputs": [
    {
     "data": {
      "text/plain": [
       "10"
      ]
     },
     "execution_count": 1,
     "metadata": {},
     "output_type": "execute_result"
    }
   ],
   "source": [
    "x=10\n",
    "x"
   ]
  },
  {
   "cell_type": "markdown",
   "id": "b1ed8d16",
   "metadata": {
    "id": "9fb19f0d"
   },
   "source": [
    "---\n",
    "\n",
    "### Exercise 2:\n",
    "Assign the value `True` to a variable called `is_valid`.\n",
    "\n",
    "```python\n",
    "# Exercise 2\n",
    "```"
   ]
  },
  {
   "cell_type": "code",
   "execution_count": 2,
   "id": "6ee2d303",
   "metadata": {},
   "outputs": [
    {
     "data": {
      "text/plain": [
       "True"
      ]
     },
     "execution_count": 2,
     "metadata": {},
     "output_type": "execute_result"
    }
   ],
   "source": [
    "is_valid=True\n",
    "is_valid"
   ]
  },
  {
   "cell_type": "markdown",
   "id": "0be4b8ba",
   "metadata": {
    "id": "9fb19f0d"
   },
   "source": [
    "---\n",
    "\n",
    "### Exercise 3:\n",
    "Create a string variable `name` with the value \"Python Programming\".\n",
    "\n",
    "```python\n",
    "# Exercise 3\n",
    "```"
   ]
  },
  {
   "cell_type": "code",
   "execution_count": 3,
   "id": "1f4875ab",
   "metadata": {},
   "outputs": [
    {
     "data": {
      "text/plain": [
       "'Python Programming'"
      ]
     },
     "execution_count": 3,
     "metadata": {},
     "output_type": "execute_result"
    }
   ],
   "source": [
    "name=\"Python Programming\"\n",
    "name"
   ]
  },
  {
   "cell_type": "markdown",
   "id": "87b86b33",
   "metadata": {
    "id": "9fb19f0d"
   },
   "source": [
    "---\n",
    "\n",
    "### Exercise 4:\n",
    "Assign the result of `5 + 3` to a variable `sum_result`.\n",
    "\n",
    "```python\n",
    "# Exercise 4\n",
    "```"
   ]
  },
  {
   "cell_type": "code",
   "execution_count": 4,
   "id": "a82a90cc",
   "metadata": {},
   "outputs": [
    {
     "data": {
      "text/plain": [
       "8"
      ]
     },
     "execution_count": 4,
     "metadata": {},
     "output_type": "execute_result"
    }
   ],
   "source": [
    "sum_result=5 + 3\n",
    "sum_result"
   ]
  },
  {
   "cell_type": "markdown",
   "id": "07ce84fd",
   "metadata": {
    "id": "9fb19f0d"
   },
   "source": [
    "---\n",
    "\n",
    "### Exercise 5:\n",
    "Assign multiple variables in one line: `a = 5`, `b = 10`, `c = 15`.\n",
    "\n",
    "```python\n",
    "# Exercise 5\n",
    "```"
   ]
  },
  {
   "cell_type": "code",
   "execution_count": 6,
   "id": "a4d8b1b7",
   "metadata": {},
   "outputs": [
    {
     "name": "stdout",
     "output_type": "stream",
     "text": [
      "5 10 15\n"
     ]
    }
   ],
   "source": [
    "a = 5\n",
    "b = 10\n",
    "c = 15\n",
    "print(a,b,c)"
   ]
  },
  {
   "cell_type": "markdown",
   "id": "f991fc41",
   "metadata": {
    "id": "9fb19f0d"
   },
   "source": [
    "---\n",
    "\n",
    "### Exercise 6:\n",
    "Assign the value of one variable `x` to another variable `y`.\n",
    "\n",
    "```python\n",
    "# Exercise 6\n",
    "```"
   ]
  },
  {
   "cell_type": "code",
   "execution_count": 7,
   "id": "96aa49dc",
   "metadata": {},
   "outputs": [
    {
     "name": "stdout",
     "output_type": "stream",
     "text": [
      "4\n"
     ]
    }
   ],
   "source": [
    "x=4\n",
    "y=x\n",
    "print(y)"
   ]
  },
  {
   "cell_type": "markdown",
   "id": "bb6f63c3",
   "metadata": {
    "id": "9fb19f0d"
   },
   "source": [
    "---\n",
    "\n",
    "### Exercise 7:\n",
    "Assign a floating-point number `9.8` to a variable `gravity`.\n",
    "\n",
    "```python\n",
    "# Exercise 7\n",
    "```"
   ]
  },
  {
   "cell_type": "code",
   "execution_count": 8,
   "id": "53e14100",
   "metadata": {},
   "outputs": [
    {
     "data": {
      "text/plain": [
       "9.8"
      ]
     },
     "execution_count": 8,
     "metadata": {},
     "output_type": "execute_result"
    }
   ],
   "source": [
    "gravity=9.8 \n",
    "gravity"
   ]
  },
  {
   "cell_type": "markdown",
   "id": "d2044fc1",
   "metadata": {
    "id": "9fb19f0d"
   },
   "source": [
    "---\n",
    "\n",
    "### Exercise 8:\n",
    "Create a variable `country` and assign it the string value of your favorite country.\n",
    "\n",
    "```python\n",
    "# Exercise 8\n",
    "```"
   ]
  },
  {
   "cell_type": "code",
   "execution_count": 9,
   "id": "cbe69726",
   "metadata": {},
   "outputs": [
    {
     "data": {
      "text/plain": [
       "'Madagascar'"
      ]
     },
     "execution_count": 9,
     "metadata": {},
     "output_type": "execute_result"
    }
   ],
   "source": [
    "country=\"Madagascar\"\n",
    "country"
   ]
  },
  {
   "cell_type": "markdown",
   "id": "9e712f81",
   "metadata": {
    "id": "9fb19f0d"
   },
   "source": [
    "---\n",
    "\n",
    "### Exercise 9:\n",
    "Change the value of variable `age` from `25` to `26` in two separate steps.\n",
    "\n",
    "```python\n",
    "# Exercise 9\n",
    "```"
   ]
  },
  {
   "cell_type": "code",
   "execution_count": 10,
   "id": "4b3c9623",
   "metadata": {},
   "outputs": [
    {
     "data": {
      "text/plain": [
       "26"
      ]
     },
     "execution_count": 10,
     "metadata": {},
     "output_type": "execute_result"
    }
   ],
   "source": [
    "age= 25\n",
    "age=age+1\n",
    "age"
   ]
  },
  {
   "cell_type": "markdown",
   "id": "8f73d70c",
   "metadata": {
    "id": "9fb19f0d"
   },
   "source": [
    "---\n",
    "\n",
    "### Exercise 10:\n",
    "Use one variable to store the result of subtracting two numbers `20 - 7`.\n",
    "\n",
    "```python\n",
    "# Exercise 10\n",
    "```"
   ]
  },
  {
   "cell_type": "code",
   "execution_count": 11,
   "id": "581ac92b",
   "metadata": {},
   "outputs": [
    {
     "data": {
      "text/plain": [
       "13"
      ]
     },
     "execution_count": 11,
     "metadata": {},
     "output_type": "execute_result"
    }
   ],
   "source": [
    "a=20 - 7\n",
    "a"
   ]
  },
  {
   "cell_type": "markdown",
   "id": "293a7e03",
   "metadata": {
    "id": "9fb19f0d"
   },
   "source": [
    "---\n",
    "\n",
    "### Exercise 11:\n",
    "Assign an integer value and a floating-point value to two different variables.\n",
    "\n",
    "```python\n",
    "# Exercise 11\n",
    "```"
   ]
  },
  {
   "cell_type": "code",
   "execution_count": 14,
   "id": "9e163947",
   "metadata": {},
   "outputs": [
    {
     "name": "stdout",
     "output_type": "stream",
     "text": [
      "12\n",
      "25\n"
     ]
    }
   ],
   "source": [
    "b=12\n",
    "e=25\n",
    "\n",
    "print(b)\n",
    "print(e)"
   ]
  },
  {
   "cell_type": "markdown",
   "id": "05902698",
   "metadata": {
    "id": "9fb19f0d"
   },
   "source": [
    "---\n",
    "\n",
    "### Exercise 12:\n",
    "Assign a boolean value `False` to a variable `is_completed`.\n",
    "\n",
    "```python\n",
    "# Exercise 12\n",
    "```"
   ]
  },
  {
   "cell_type": "code",
   "execution_count": 15,
   "id": "12a8645b",
   "metadata": {},
   "outputs": [
    {
     "data": {
      "text/plain": [
       "False"
      ]
     },
     "execution_count": 15,
     "metadata": {},
     "output_type": "execute_result"
    }
   ],
   "source": [
    "is_completed=False\n",
    "is_completed"
   ]
  },
  {
   "cell_type": "markdown",
   "id": "18389d9e",
   "metadata": {
    "id": "9fb19f0d"
   },
   "source": [
    "---\n",
    "\n",
    "### Exercise 13:\n",
    "Swap the values of two variables `x` and `y`.\n",
    "\n",
    "```python\n",
    "# Exercise 13\n",
    "```"
   ]
  },
  {
   "cell_type": "code",
   "execution_count": 17,
   "id": "82f563d1",
   "metadata": {},
   "outputs": [
    {
     "data": {
      "text/plain": [
       "(6, 4)"
      ]
     },
     "execution_count": 17,
     "metadata": {},
     "output_type": "execute_result"
    }
   ],
   "source": [
    "x,y=4,6\n",
    "y,x"
   ]
  },
  {
   "cell_type": "markdown",
   "id": "73dacb5b",
   "metadata": {
    "id": "9fb19f0d"
   },
   "source": [
    "---\n",
    "\n",
    "### Exercise 14:\n",
    "Assign a complex number `3 + 4j` to a variable `complex_num`.\n",
    "\n",
    "```python\n",
    "# Exercise 14\n",
    "```"
   ]
  },
  {
   "cell_type": "code",
   "execution_count": 18,
   "id": "d54f3f74",
   "metadata": {},
   "outputs": [
    {
     "data": {
      "text/plain": [
       "(3+4j)"
      ]
     },
     "execution_count": 18,
     "metadata": {},
     "output_type": "execute_result"
    }
   ],
   "source": [
    "complex_num=3 + 4j\n",
    "complex_num"
   ]
  },
  {
   "cell_type": "markdown",
   "id": "7be9efa3",
   "metadata": {
    "id": "9fb19f0d"
   },
   "source": [
    "---\n",
    "\n",
    "### Exercise 15:\n",
    "Reassign a variable from an integer to a string.\n",
    "\n",
    "```python\n",
    "# Exercise 15\n",
    "```"
   ]
  },
  {
   "cell_type": "code",
   "execution_count": 19,
   "id": "5d511633",
   "metadata": {},
   "outputs": [
    {
     "data": {
      "text/plain": [
       "'37'"
      ]
     },
     "execution_count": 19,
     "metadata": {},
     "output_type": "execute_result"
    }
   ],
   "source": [
    "a=37\n",
    "a=str(a)\n",
    "a"
   ]
  },
  {
   "cell_type": "markdown",
   "id": "e786390f",
   "metadata": {
    "id": "9fb19f0d"
   },
   "source": [
    "---\n",
    "\n",
    "### Exercise 16:\n",
    "Create two variables `first_name` and `last_name`, and assign them your first and last names.\n",
    "\n",
    "```python\n",
    "# Exercise 16\n",
    "```"
   ]
  },
  {
   "cell_type": "code",
   "execution_count": 24,
   "id": "0293a1f2",
   "metadata": {},
   "outputs": [
    {
     "name": "stdout",
     "output_type": "stream",
     "text": [
      "HARILOVA JULIANNA\n"
     ]
    }
   ],
   "source": [
    "first_name=\"HARILOVA \"\n",
    "last_name=\"JULIANNA\"\n",
    "myFirstAndLastNames=first_name+last_name\n",
    "print (myFirstAndLastNames)"
   ]
  },
  {
   "cell_type": "markdown",
   "id": "6a491a70",
   "metadata": {
    "id": "9fb19f0d"
   },
   "source": [
    "---\n",
    "\n",
    "### Exercise 17:\n",
    "Create a variable `temperature` and assign it the value of `35.5`.\n",
    "\n",
    "```python\n",
    "# Exercise 17\n",
    "```"
   ]
  },
  {
   "cell_type": "code",
   "execution_count": 25,
   "id": "a97e3484",
   "metadata": {},
   "outputs": [
    {
     "data": {
      "text/plain": [
       "35.5"
      ]
     },
     "execution_count": 25,
     "metadata": {},
     "output_type": "execute_result"
    }
   ],
   "source": [
    "temperature=35.5\n",
    "temperature"
   ]
  },
  {
   "cell_type": "markdown",
   "id": "ecb4e3ab",
   "metadata": {
    "id": "9fb19f0d"
   },
   "source": [
    "---\n",
    "\n",
    "### Exercise 18:\n",
    "Assign the result of the multiplication of two numbers `8 * 6` to a variable `product`.\n",
    "\n",
    "```python\n",
    "# Exercise 18\n",
    "```"
   ]
  },
  {
   "cell_type": "code",
   "execution_count": 26,
   "id": "47d87beb",
   "metadata": {},
   "outputs": [
    {
     "data": {
      "text/plain": [
       "48"
      ]
     },
     "execution_count": 26,
     "metadata": {},
     "output_type": "execute_result"
    }
   ],
   "source": [
    "product=8 * 6\n",
    "product"
   ]
  },
  {
   "cell_type": "markdown",
   "id": "2d25c4df",
   "metadata": {
    "id": "9fb19f0d"
   },
   "source": [
    "---\n",
    "\n",
    "### Exercise 19:\n",
    "Assign a sentence of your choice to a variable `sentence`.\n",
    "\n",
    "```python\n",
    "# Exercise 19\n",
    "```"
   ]
  },
  {
   "cell_type": "code",
   "execution_count": 27,
   "id": "1d54cb70",
   "metadata": {},
   "outputs": [
    {
     "data": {
      "text/plain": [
       "\"I don't give up\""
      ]
     },
     "execution_count": 27,
     "metadata": {},
     "output_type": "execute_result"
    }
   ],
   "source": [
    "sentence=\"I don't give up\"\n",
    "sentence"
   ]
  },
  {
   "cell_type": "markdown",
   "id": "868c5076",
   "metadata": {
    "id": "9fb19f0d"
   },
   "source": [
    "---\n",
    "\n",
    "### Exercise 20:\n",
    "Use an assignment to convert a string `'50'` into an integer variable `int_value`.\n",
    "\n",
    "```python\n",
    "# Exercise 20\n",
    "```"
   ]
  },
  {
   "cell_type": "code",
   "execution_count": 30,
   "id": "ebc29c50",
   "metadata": {},
   "outputs": [
    {
     "data": {
      "text/plain": [
       "50"
      ]
     },
     "execution_count": 30,
     "metadata": {},
     "output_type": "execute_result"
    }
   ],
   "source": [
    "int_value=\"50\"\n",
    "int_value=int(int_value)\n",
    "int_value"
   ]
  },
  {
   "cell_type": "markdown",
   "id": "4cccfa0f",
   "metadata": {
    "id": "9fb19f0d"
   },
   "source": [
    "---\n",
    "\n",
    "### Exercise 21:\n",
    "Assign the result of dividing `144` by `12` to a variable `quotient`.\n",
    "\n",
    "```python\n",
    "# Exercise 21\n",
    "```"
   ]
  },
  {
   "cell_type": "code",
   "execution_count": 31,
   "id": "ea87a67b",
   "metadata": {},
   "outputs": [
    {
     "data": {
      "text/plain": [
       "12.0"
      ]
     },
     "execution_count": 31,
     "metadata": {},
     "output_type": "execute_result"
    }
   ],
   "source": [
    "quotient=144/12\n",
    "quotient"
   ]
  },
  {
   "cell_type": "markdown",
   "id": "b0d5e2c3",
   "metadata": {
    "id": "9fb19f0d"
   },
   "source": [
    "---\n",
    "\n",
    "### Exercise 22:\n",
    "Assign the remainder of `47 divided by 5` to a variable `remainder`.\n",
    "\n",
    "```python\n",
    "# Exercise 22\n",
    "```"
   ]
  },
  {
   "cell_type": "code",
   "execution_count": 33,
   "id": "a9b67983",
   "metadata": {},
   "outputs": [
    {
     "data": {
      "text/plain": [
       "2"
      ]
     },
     "execution_count": 33,
     "metadata": {},
     "output_type": "execute_result"
    }
   ],
   "source": [
    "remainder=47%5\n",
    "remainder"
   ]
  },
  {
   "cell_type": "markdown",
   "id": "841297ee",
   "metadata": {
    "id": "9fb19f0d"
   },
   "source": [
    "---\n",
    "\n",
    "### Exercise 23:\n",
    "Create a variable `is_student` and assign it the value `True`.\n",
    "\n",
    "```python\n",
    "# Exercise 23\n",
    "```"
   ]
  },
  {
   "cell_type": "markdown",
   "id": "9255f461",
   "metadata": {
    "id": "9fb19f0d"
   },
   "source": [
    "---\n",
    "\n",
    "### Exercise 24:\n",
    "Use a variable to store the result of a modulo operation: `45 % 4`.\n",
    "\n",
    "```python\n",
    "# Exercise 24\n",
    "```"
   ]
  },
  {
   "cell_type": "code",
   "execution_count": 34,
   "id": "ea574eaf",
   "metadata": {},
   "outputs": [
    {
     "data": {
      "text/plain": [
       "1"
      ]
     },
     "execution_count": 34,
     "metadata": {},
     "output_type": "execute_result"
    }
   ],
   "source": [
    "result =45 % 4\n",
    "result "
   ]
  },
  {
   "cell_type": "markdown",
   "id": "d958b5c8",
   "metadata": {
    "id": "9fb19f0d"
   },
   "source": [
    "---\n",
    "\n",
    "### Exercise 25:\n",
    "Create a variable `pi` and assign it the value `3.14159`.\n",
    "\n",
    "```python\n",
    "# Exercise 25\n",
    "```"
   ]
  },
  {
   "cell_type": "code",
   "execution_count": 35,
   "id": "8dfd8e6a",
   "metadata": {},
   "outputs": [
    {
     "data": {
      "text/plain": [
       "3.14159"
      ]
     },
     "execution_count": 35,
     "metadata": {},
     "output_type": "execute_result"
    }
   ],
   "source": [
    "pi=3.14159\n",
    "pi"
   ]
  },
  {
   "cell_type": "markdown",
   "id": "a8582743",
   "metadata": {
    "id": "9fb19f0d"
   },
   "source": [
    "---\n",
    "\n",
    "### Exercise 26:\n",
    "Create two variables `length` and `width`, assign them values, and calculate the area of a rectangle.\n",
    "\n",
    "```python\n",
    "# Exercise 26\n",
    "```"
   ]
  },
  {
   "cell_type": "code",
   "execution_count": 36,
   "id": "40727523",
   "metadata": {},
   "outputs": [
    {
     "data": {
      "text/plain": [
       "24.0"
      ]
     },
     "execution_count": 36,
     "metadata": {},
     "output_type": "execute_result"
    }
   ],
   "source": [
    "length =8\n",
    "width=6\n",
    "area=(length*width)/2\n",
    "area"
   ]
  },
  {
   "cell_type": "markdown",
   "id": "6fc748c0",
   "metadata": {
    "id": "9fb19f0d"
   },
   "source": [
    "---\n",
    "\n",
    "### Exercise 27:\n",
    "Assign a negative number to a variable `negative_value`.\n",
    "\n",
    "```python\n",
    "# Exercise 27\n",
    "```"
   ]
  },
  {
   "cell_type": "code",
   "execution_count": 37,
   "id": "a5ed24df",
   "metadata": {},
   "outputs": [
    {
     "data": {
      "text/plain": [
       "-23"
      ]
     },
     "execution_count": 37,
     "metadata": {},
     "output_type": "execute_result"
    }
   ],
   "source": [
    "negative_value= -23\n",
    "negative_value"
   ]
  },
  {
   "cell_type": "markdown",
   "id": "a61cae84",
   "metadata": {
    "id": "9fb19f0d"
   },
   "source": [
    "---\n",
    "\n",
    "### Exercise 28:\n",
    "Assign a string containing a special character (e.g., \"Hello, World!\") to a variable `greeting`.\n",
    "\n",
    "```python\n",
    "# Exercise 28\n",
    "```"
   ]
  },
  {
   "cell_type": "code",
   "execution_count": 38,
   "id": "6e7040d3",
   "metadata": {},
   "outputs": [
    {
     "data": {
      "text/plain": [
       "'Hello, World!'"
      ]
     },
     "execution_count": 38,
     "metadata": {},
     "output_type": "execute_result"
    }
   ],
   "source": [
    "greeting=\"Hello, World!\"\n",
    "greeting"
   ]
  },
  {
   "cell_type": "markdown",
   "id": "90909074",
   "metadata": {
    "id": "9fb19f0d"
   },
   "source": [
    "---\n",
    "\n",
    "### Exercise 29:\n",
    "Create a variable `population` and assign it a large integer value (in billions).\n",
    "\n",
    "```python\n",
    "# Exercise 29\n",
    "```\n",
    "\n",
    "---"
   ]
  },
  {
   "cell_type": "code",
   "execution_count": 39,
   "id": "d82d6da0",
   "metadata": {},
   "outputs": [
    {
     "data": {
      "text/plain": [
       "10000000000000"
      ]
     },
     "execution_count": 39,
     "metadata": {},
     "output_type": "execute_result"
    }
   ],
   "source": [
    "population=10000000000000\n",
    "population"
   ]
  },
  {
   "cell_type": "markdown",
   "id": "a03b503e",
   "metadata": {
    "id": "9fb19f0d"
   },
   "source": [
    "### Exercise 30:\n",
    "Use a variable to store the result of raising `2` to the power of `8`.\n",
    "\n",
    "```python\n",
    "# Exercise 30\n",
    "```"
   ]
  },
  {
   "cell_type": "code",
   "execution_count": 40,
   "id": "3c4c383c",
   "metadata": {},
   "outputs": [
    {
     "data": {
      "text/plain": [
       "256"
      ]
     },
     "execution_count": 40,
     "metadata": {},
     "output_type": "execute_result"
    }
   ],
   "source": [
    "x=2**8\n",
    "x"
   ]
  },
  {
   "cell_type": "markdown",
   "id": "296bf870",
   "metadata": {
    "id": "9fb19f0d"
   },
   "source": [
    "---\n",
    "\n",
    "### Exercise 31:\n",
    "Assign a list of your favorite fruits to a variable `fruits`.\n",
    "\n",
    "```python\n",
    "# Exercise 31\n",
    "```"
   ]
  },
  {
   "cell_type": "code",
   "execution_count": 41,
   "id": "99c3ea00",
   "metadata": {},
   "outputs": [
    {
     "data": {
      "text/plain": [
       "'banana'"
      ]
     },
     "execution_count": 41,
     "metadata": {},
     "output_type": "execute_result"
    }
   ],
   "source": [
    "fruits=\"banana\"\n",
    "fruits"
   ]
  },
  {
   "cell_type": "markdown",
   "id": "227b68ab",
   "metadata": {
    "id": "9fb19f0d"
   },
   "source": [
    "---\n",
    "\n",
    "### Exercise 32:\n",
    "Assign a tuple of three numbers to a variable `coordinates`.\n",
    "\n",
    "```python\n",
    "# Exercise 32\n",
    "```"
   ]
  },
  {
   "cell_type": "code",
   "execution_count": 42,
   "id": "a2bda498",
   "metadata": {},
   "outputs": [
    {
     "data": {
      "text/plain": [
       "(2, 3, 4)"
      ]
     },
     "execution_count": 42,
     "metadata": {},
     "output_type": "execute_result"
    }
   ],
   "source": [
    "coordinates=(2,3,4)\n",
    "coordinates"
   ]
  },
  {
   "cell_type": "markdown",
   "id": "7c015492",
   "metadata": {
    "id": "9fb19f0d"
   },
   "source": [
    "---\n",
    "\n",
    "### Exercise 33:\n",
    "Assign a dictionary with keys `name` and `age` to a variable `person`.\n",
    "\n",
    "```python\n",
    "# Exercise 33\n",
    "```"
   ]
  },
  {
   "cell_type": "code",
   "execution_count": 44,
   "id": "c6b952cd",
   "metadata": {},
   "outputs": [
    {
     "data": {
      "text/plain": [
       "{'name': 'Julianna', 'age': 34}"
      ]
     },
     "execution_count": 44,
     "metadata": {},
     "output_type": "execute_result"
    }
   ],
   "source": [
    "person={'name':'Julianna','age':34}\n",
    "person"
   ]
  },
  {
   "cell_type": "markdown",
   "id": "3219390d",
   "metadata": {
    "id": "9fb19f0d"
   },
   "source": [
    "---\n",
    "\n",
    "### Exercise 34:\n",
    "Use variables to store the sum of two floating-point numbers.\n",
    "\n",
    "```python\n",
    "# Exercise 34\n",
    "```"
   ]
  },
  {
   "cell_type": "code",
   "execution_count": 45,
   "id": "9672b06f",
   "metadata": {},
   "outputs": [
    {
     "data": {
      "text/plain": [
       "80.4"
      ]
     },
     "execution_count": 45,
     "metadata": {},
     "output_type": "execute_result"
    }
   ],
   "source": [
    "a=34.4\n",
    "b=46.0\n",
    "somme= a+b\n",
    "somme"
   ]
  },
  {
   "cell_type": "markdown",
   "id": "a9ca9d4e",
   "metadata": {
    "id": "9fb19f0d"
   },
   "source": [
    "---\n",
    "\n",
    "### Exercise 35:\n",
    "Create a variable `is_sunny` and assign it the result of a comparison `10 > 5`.\n",
    "\n",
    "```python\n",
    "# Exercise 35\n",
    "```"
   ]
  },
  {
   "cell_type": "code",
   "execution_count": 46,
   "id": "070c4d94",
   "metadata": {},
   "outputs": [
    {
     "data": {
      "text/plain": [
       "True"
      ]
     },
     "execution_count": 46,
     "metadata": {},
     "output_type": "execute_result"
    }
   ],
   "source": [
    "is_sunny=10 > 5\n",
    "is_sunny"
   ]
  },
  {
   "cell_type": "markdown",
   "id": "a9e015a5",
   "metadata": {
    "id": "9fb19f0d"
   },
   "source": [
    "---\n",
    "\n",
    "### Exercise 36:\n",
    "Assign a string and an integer to two different variables, then print both on one line.\n",
    "\n",
    "```python\n",
    "# Exercise 36\n",
    "```"
   ]
  },
  {
   "cell_type": "code",
   "execution_count": 48,
   "id": "8f416397",
   "metadata": {},
   "outputs": [
    {
     "name": "stdout",
     "output_type": "stream",
     "text": [
      "I need some coffe as  3\n"
     ]
    }
   ],
   "source": [
    "a=\"I need some coffe as \"\n",
    "b=3\n",
    "print(a,b)"
   ]
  },
  {
   "cell_type": "markdown",
   "id": "2a31b787",
   "metadata": {
    "id": "9fb19f0d"
   },
   "source": [
    "---\n",
    "\n",
    "### Exercise 37:\n",
    "Reassign a variable that originally held a number to a boolean value.\n",
    "\n",
    "```python\n",
    "# Exercise 37\n",
    "```"
   ]
  },
  {
   "cell_type": "code",
   "execution_count": 49,
   "id": "ca66a76e",
   "metadata": {},
   "outputs": [
    {
     "data": {
      "text/plain": [
       "True"
      ]
     },
     "execution_count": 49,
     "metadata": {},
     "output_type": "execute_result"
    }
   ],
   "source": [
    "a=21\n",
    "a=bool(a)\n",
    "a"
   ]
  },
  {
   "cell_type": "markdown",
   "id": "64db6847",
   "metadata": {
    "id": "9fb19f0d"
   },
   "source": [
    "---\n",
    "\n",
    "### Exercise 38:\n",
    "Create a variable `is_weekend` and assign it the result of `False`.\n",
    "\n",
    "```python\n",
    "# Exercise 38\n",
    "```"
   ]
  },
  {
   "cell_type": "code",
   "execution_count": 50,
   "id": "f8f9c418",
   "metadata": {},
   "outputs": [
    {
     "data": {
      "text/plain": [
       "False"
      ]
     },
     "execution_count": 50,
     "metadata": {},
     "output_type": "execute_result"
    }
   ],
   "source": [
    "is_weekend =0\n",
    "is_weekend =bool(is_weekend )\n",
    "is_weekend "
   ]
  },
  {
   "cell_type": "markdown",
   "id": "8d31a37d",
   "metadata": {
    "id": "9fb19f0d"
   },
   "source": [
    "---\n",
    "\n",
    "### Exercise 39:\n",
    "Assign a multi-line string to a variable `description`.\n",
    "\n",
    "```python\n",
    "# Exercise 39\n",
    "```"
   ]
  },
  {
   "cell_type": "code",
   "execution_count": 54,
   "id": "dfb87934",
   "metadata": {},
   "outputs": [
    {
     "name": "stdout",
     "output_type": "stream",
     "text": [
      "hello \n",
      "what your name \n",
      "good bye\n"
     ]
    }
   ],
   "source": [
    "description= print(\"hello \\nwhat your name \\ngood bye\")\n",
    "description"
   ]
  },
  {
   "cell_type": "markdown",
   "id": "7f28a60c",
   "metadata": {
    "id": "9fb19f0d"
   },
   "source": [
    "---\n",
    "\n",
    "### Exercise 40:\n",
    "Use variables to store the result of the absolute value of `-25`.\n",
    "\n",
    "```python\n",
    "# Exercise 40\n",
    "```"
   ]
  },
  {
   "cell_type": "code",
   "execution_count": 55,
   "id": "0f9a972d",
   "metadata": {},
   "outputs": [
    {
     "data": {
      "text/plain": [
       "25"
      ]
     },
     "execution_count": 55,
     "metadata": {},
     "output_type": "execute_result"
    }
   ],
   "source": [
    "absolute_value=abs(-25)\n",
    "absolute_value"
   ]
  },
  {
   "cell_type": "markdown",
   "id": "f39071bb",
   "metadata": {
    "id": "9fb19f0d"
   },
   "source": [
    "---\n",
    "\n",
    "### Exercise 41:\n",
    "Assign the result of a floor division `100 // 6` to a variable `floor_div_result`.\n",
    "\n",
    "```python\n",
    "# Exercise 41\n",
    "```"
   ]
  },
  {
   "cell_type": "code",
   "execution_count": 56,
   "id": "d34f746d",
   "metadata": {},
   "outputs": [
    {
     "data": {
      "text/plain": [
       "16"
      ]
     },
     "execution_count": 56,
     "metadata": {},
     "output_type": "execute_result"
    }
   ],
   "source": [
    "floor_div_result=100 // 6\n",
    "\n",
    "floor_div_result"
   ]
  },
  {
   "cell_type": "markdown",
   "id": "57fa7536",
   "metadata": {
    "id": "9fb19f0d"
   },
   "source": [
    "---\n",
    "\n",
    "### Exercise 42:\n",
    "Assign the result of adding a floating-point number to an integer to a variable `mixed_sum`.\n",
    "\n",
    "```python\n",
    "# Exercise 42\n",
    "```"
   ]
  },
  {
   "cell_type": "code",
   "execution_count": 58,
   "id": "94cb47d4",
   "metadata": {},
   "outputs": [
    {
     "data": {
      "text/plain": [
       "9.6"
      ]
     },
     "execution_count": 58,
     "metadata": {},
     "output_type": "execute_result"
    }
   ],
   "source": [
    "a=4\n",
    "a=int(a)\n",
    "b=5.6\n",
    "b=float(b)\n",
    "mixed_sum= a+b\n",
    "mixed_sum"
   ]
  },
  {
   "cell_type": "markdown",
   "id": "7d3eb2ae",
   "metadata": {
    "id": "9fb19f0d"
   },
   "source": [
    "---\n",
    "\n",
    "\n",
    "### Exercise 43:\n",
    "Assign a boolean value based on the comparison of two variables `a = 10` and `b = 15`.\n",
    "\n",
    "```python\n",
    "# Exercise 43\n",
    "```\n",
    "\n",
    "-"
   ]
  },
  {
   "cell_type": "code",
   "execution_count": 60,
   "id": "022e9100",
   "metadata": {},
   "outputs": [
    {
     "name": "stdout",
     "output_type": "stream",
     "text": [
      "False\n",
      "True\n"
     ]
    }
   ],
   "source": [
    "a = 10\n",
    "b = 15\n",
    "c=a>b\n",
    "d=a<b\n",
    "print(c)\n",
    "print(d)"
   ]
  },
  {
   "cell_type": "markdown",
   "id": "e2dd05cf",
   "metadata": {
    "id": "9fb19f0d"
   },
   "source": [
    "--\n",
    "\n",
    "### Exercise 44:\n",
    "Assign a long sentence to a variable and count its characters using `len()`.\n",
    "\n",
    "```python\n",
    "# Exercise 44\n",
    "```"
   ]
  },
  {
   "cell_type": "code",
   "execution_count": 61,
   "id": "4ca61d19",
   "metadata": {},
   "outputs": [
    {
     "data": {
      "text/plain": [
       "83"
      ]
     },
     "execution_count": 61,
     "metadata": {},
     "output_type": "execute_result"
    }
   ],
   "source": [
    "s=\"qhjkdjknkdkndkjnkqlkq,fjb js kqkjwdkqnhkjnkq,dnmklmkjnfjkwlkm;awkefjmnklsmksmlkwfjk\"\n",
    "len(s)"
   ]
  },
  {
   "cell_type": "markdown",
   "id": "0a7479c4",
   "metadata": {
    "id": "9fb19f0d"
   },
   "source": [
    "---\n",
    "\n",
    "### Exercise 45:\n",
    "Assign a fractional result `7 / 3` to a variable `division_result`.\n",
    "\n",
    "```python\n",
    "# Exercise 45\n",
    "```"
   ]
  },
  {
   "cell_type": "code",
   "execution_count": 62,
   "id": "e26d15f7",
   "metadata": {},
   "outputs": [
    {
     "data": {
      "text/plain": [
       "2.3333333333333335"
      ]
     },
     "execution_count": 62,
     "metadata": {},
     "output_type": "execute_result"
    }
   ],
   "source": [
    "division_result=7 / 3\n",
    "division_result"
   ]
  },
  {
   "cell_type": "markdown",
   "id": "3f07a7dc",
   "metadata": {
    "id": "9fb19f0d"
   },
   "source": [
    "---\n",
    "\n",
    "### Exercise 46:\n",
    "Create a variable `speed` and assign it the value of 100 kilometers per hour.\n",
    "\n",
    "```python\n",
    "# Exercise 46\n",
    "```"
   ]
  },
  {
   "cell_type": "code",
   "execution_count": 63,
   "id": "d6bfabb0",
   "metadata": {},
   "outputs": [
    {
     "data": {
      "text/plain": [
       "1.6666666666666667"
      ]
     },
     "execution_count": 63,
     "metadata": {},
     "output_type": "execute_result"
    }
   ],
   "source": [
    "speed=100/60\n",
    "speed"
   ]
  },
  {
   "cell_type": "markdown",
   "id": "31d77baf",
   "metadata": {
    "id": "9fb19f0d"
   },
   "source": [
    "---\n",
    "\n",
    "### Exercise 47:\n",
    "Assign a multi-variable equation like `y = 3x + 5` where `x = 4` to a variable `y`.\n",
    "\n",
    "```python\n",
    "# Exercise 47\n",
    "```"
   ]
  },
  {
   "cell_type": "code",
   "execution_count": 67,
   "id": "8c937e9f",
   "metadata": {},
   "outputs": [
    {
     "data": {
      "text/plain": [
       "17"
      ]
     },
     "execution_count": 67,
     "metadata": {},
     "output_type": "execute_result"
    }
   ],
   "source": [
    "x = 4\n",
    "y = 3* x + 5\n",
    "y"
   ]
  },
  {
   "cell_type": "markdown",
   "id": "9fb19f0d",
   "metadata": {
    "id": "9fb19f0d"
   },
   "source": [
    "---\n",
    "\n",
    "### Exercise 48:\n",
    "Use variables to calculate and store the average of three numbers.\n",
    "\n",
    "```python\n",
    "# Exercise 48\n",
    "```\n",
    "\n",
    "****"
   ]
  },
  {
   "cell_type": "code",
   "execution_count": 68,
   "id": "b520c3ea",
   "metadata": {},
   "outputs": [
    {
     "data": {
      "text/plain": [
       "196.33333333333334"
      ]
     },
     "execution_count": 68,
     "metadata": {},
     "output_type": "execute_result"
    }
   ],
   "source": [
    "a=[3,47,539]\n",
    "calculate=sum(a)/len(a)\n",
    "calculate"
   ]
  }
 ],
 "metadata": {
  "colab": {
   "provenance": []
  },
  "kernelspec": {
   "display_name": "Python 3 (ipykernel)",
   "language": "python",
   "name": "python3"
  },
  "language_info": {
   "codemirror_mode": {
    "name": "ipython",
    "version": 3
   },
   "file_extension": ".py",
   "mimetype": "text/x-python",
   "name": "python",
   "nbconvert_exporter": "python",
   "pygments_lexer": "ipython3",
   "version": "3.10.12"
  }
 },
 "nbformat": 4,
 "nbformat_minor": 5
}
